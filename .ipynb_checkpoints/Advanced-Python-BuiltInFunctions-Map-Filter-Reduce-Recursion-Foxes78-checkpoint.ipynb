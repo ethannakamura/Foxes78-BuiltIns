{
 "cells": [
  {
   "cell_type": "code",
   "execution_count": 4,
   "metadata": {},
   "outputs": [
    {
     "data": {
      "text/plain": [
       "['J', 'o', 'a', 'o', ' ', 'C', 'a', 'n', 'c', 'e', 'l', 'o']"
      ]
     },
     "execution_count": 4,
     "metadata": {},
     "output_type": "execute_result"
    }
   ],
   "source": [
    "mystring = \"Joao Cancelo\"\n",
    "# i want a list of the individual letters in this string\n",
    "x = list(mystring)\n",
    "x\n",
    "\n",
    "# Conversions between list and string:\n",
    "# string of words -> list of words: my_string.split()\n",
    "# list -> string: separator.join(my_list)\n",
    "# any string -> list of individual characters: list(my_string)"
   ]
  },
  {
   "cell_type": "markdown",
   "metadata": {},
   "source": [
    "# Map, Filter, Reduce, Lambda & Recursion"
   ]
  },
  {
   "cell_type": "markdown",
   "metadata": {},
   "source": [
    "## Tasks Today:\n",
    "\n",
    "1) <b>Lambda Functions</b> <br>\n",
    " &nbsp;&nbsp;&nbsp;&nbsp; a) Syntax <br>\n",
    " &nbsp;&nbsp;&nbsp;&nbsp; b) Saving to a Variable <br>\n",
    " &nbsp;&nbsp;&nbsp;&nbsp; c) Multiple Inputs <br>\n",
    " &nbsp;&nbsp;&nbsp;&nbsp; d) Passing a Lambda into a Function <br>\n",
    " &nbsp;&nbsp;&nbsp;&nbsp; e) Returning a Lambda from a Function <br>\n",
    " &nbsp;&nbsp;&nbsp;&nbsp; f) In-Class Exercise #1 <br>\n",
    "2) <b>Map</b> <br>\n",
    " &nbsp;&nbsp;&nbsp;&nbsp; a) Syntax <br>\n",
    " &nbsp;&nbsp;&nbsp;&nbsp; b) Using Lambda's with Map <br>\n",
    " &nbsp;&nbsp;&nbsp;&nbsp; c) In-Class Exercise #2 <br>\n",
    "3) <b>Filter</b> <br>\n",
    " &nbsp;&nbsp;&nbsp;&nbsp; a) Syntax <br>\n",
    " &nbsp;&nbsp;&nbsp;&nbsp; b) Using Lambda's with Filter <br>\n",
    " &nbsp;&nbsp;&nbsp;&nbsp; c) In-Class Exercise #3 <br>\n",
    "4) <b>Reduce</b> <br>\n",
    " &nbsp;&nbsp;&nbsp;&nbsp; a) Syntax <br>\n",
    " &nbsp;&nbsp;&nbsp;&nbsp; b) Using Lambda's with Reduce <br>\n",
    " &nbsp;&nbsp;&nbsp;&nbsp; c) In-Class Exercise #4 <br>\n",
    "5) <b>Recursion</b> <br>\n",
    " &nbsp;&nbsp;&nbsp;&nbsp; a) Implementing a Base <br>\n",
    " &nbsp;&nbsp;&nbsp;&nbsp; b) Writing a Factorial Function <br>\n",
    " &nbsp;&nbsp;&nbsp;&nbsp; c) In-Class Exercise #5 <br>\n",
    "6) <b>Generators & Iterators</b> <br>\n",
    " &nbsp;&nbsp;&nbsp;&nbsp; a) Yield Keyword <br>\n",
    " &nbsp;&nbsp;&nbsp;&nbsp; b) Inifinite Generator <br>\n",
    " &nbsp;&nbsp;&nbsp;&nbsp; c) In-Class Exercise #6 <br>\n",
    "7) <b>Exercises</b> <br>\n",
    " &nbsp;&nbsp;&nbsp;&nbsp; a) Exercise #1 - Filtering Empty Strings <br>\n",
    " &nbsp;&nbsp;&nbsp;&nbsp; b) Exercise #2 - Sorting with Last Name <br>\n",
    " &nbsp;&nbsp;&nbsp;&nbsp; c) Exercise #3 - Conversion to Farhenheit <br>\n",
    " &nbsp;&nbsp;&nbsp;&nbsp; d) Exercise #4 - Fibonacci Sequence <br>"
   ]
  },
  {
   "cell_type": "markdown",
   "metadata": {},
   "source": [
    "## Lambda Functions <br>\n",
    "<p>Lambda functions... or \"Anonymous Functions\" are referring to inline functions with no name. The keyword lambda denotes the no name function, and executes within a single line. Without saving it to a variable; however, it is not able to be used, unless passed in either as a paramater or within list comprehension.<br>Written as \"(keyword lambda) (one or more inputs) (colon) (function to be executed)\"</p>"
   ]
  },
  {
   "cell_type": "markdown",
   "metadata": {},
   "source": [
    "#### Syntax"
   ]
  },
  {
   "cell_type": "code",
   "execution_count": 5,
   "metadata": {},
   "outputs": [],
   "source": [
    "lambda x: x**2\n",
    "# lambda <input>: <return value based on input>\n",
    "\n",
    "def squared(x):\n",
    "    return x**2"
   ]
  },
  {
   "cell_type": "markdown",
   "metadata": {},
   "source": [
    "#### Saving to a Variable"
   ]
  },
  {
   "cell_type": "code",
   "execution_count": 8,
   "metadata": {},
   "outputs": [
    {
     "name": "stdout",
     "output_type": "stream",
     "text": [
      "16\n",
      "Joao Cancelo\n"
     ]
    }
   ],
   "source": [
    "# we can save a lambda function as a variable in order to 'name it' and be able to use it\n",
    "sqrd = lambda x: x**2\n",
    "print(sqrd(4))\n",
    "\n",
    "prpr = lambda x: x.title()\n",
    "print(prpr('joao cancelo'))"
   ]
  },
  {
   "cell_type": "markdown",
   "metadata": {},
   "source": [
    "#### Multiple Inputs"
   ]
  },
  {
   "cell_type": "code",
   "execution_count": 9,
   "metadata": {},
   "outputs": [
    {
     "data": {
      "text/plain": [
       "16"
      ]
     },
     "execution_count": 9,
     "metadata": {},
     "output_type": "execute_result"
    }
   ],
   "source": [
    "xtothey = lambda x,y: x**y\n",
    "xtothey(4, 2)\n",
    "\n",
    "# same as below\n",
    "def normalxtothey(x, y):\n",
    "    return x**y"
   ]
  },
  {
   "cell_type": "markdown",
   "metadata": {},
   "source": [
    "#### Passing a Lambda into a Function"
   ]
  },
  {
   "cell_type": "code",
   "execution_count": 13,
   "metadata": {},
   "outputs": [
    {
     "name": "stdout",
     "output_type": "stream",
     "text": [
      "[('Kyle Walker', 2, 'Manchester City'), ('Erling Haaland', 9, 'Borussia Dortmund'), ('Kevin De Bruyne', 17, 'Manchester City'), ('Joao Cancelo', 27, 'Manchester City')]\n"
     ]
    }
   ],
   "source": [
    "def doMath(f, num):\n",
    "    \"\"\"\n",
    "    performs function f on number num\n",
    "    \"\"\"\n",
    "    return f(num)\n",
    "\n",
    "doMath(lambda x: x**4, 4) # doMath with result in the lambda being called on 4 so doing 4**4\n",
    "\n",
    "# one of my favorite uses -> sorted()\n",
    "# passing a lambda function into the key parameter of sorted()\n",
    "# lets us specify which index of the tuple to sort by\n",
    "players = [('Joao Cancelo', 27, 'Manchester City'), ('Kevin De Bruyne', 17, 'Manchester City'), ('Erling Haaland', 9, 'Borussia Dortmund'), ('Kyle Walker', 2, 'Manchester City')]\n",
    "print(sorted(players, key=lambda x: x[1]))"
   ]
  },
  {
   "cell_type": "markdown",
   "metadata": {},
   "source": [
    "#### Returning a Lambda from a Function"
   ]
  },
  {
   "cell_type": "code",
   "execution_count": 16,
   "metadata": {},
   "outputs": [
    {
     "name": "stdout",
     "output_type": "stream",
     "text": [
      "<function salesCalc.<locals>.<lambda> at 0x000001EFCA6513A0>\n",
      "3.1993\n",
      "<function salesCalc.<locals>.<lambda> at 0x000001EFCA651550>\n",
      "2.99\n"
     ]
    }
   ],
   "source": [
    "# returning a lambda function\n",
    "# sales tax calc\n",
    "# total -> subtotal * sales tax\n",
    "\n",
    "# use the input from the outer function in the lambda function\n",
    "# such that we can save different 'setups' of the lambda function\n",
    "\n",
    "def salesCalc(tax):\n",
    "    return lambda total: tax*total + total\n",
    "\n",
    "# saving a setup for the value of tax\n",
    "MAsalesCalc = salesCalc(0.07)\n",
    "print(MAsalesCalc)\n",
    "print(MAsalesCalc(2.99))\n",
    "\n",
    "NHsalesCalc = salesCalc(0)\n",
    "print(NHsalesCalc)\n",
    "print(NHsalesCalc(2.99))\n"
   ]
  },
  {
   "cell_type": "markdown",
   "metadata": {},
   "source": [
    "#### If Statements within Lambdas"
   ]
  },
  {
   "cell_type": "code",
   "execution_count": 19,
   "metadata": {},
   "outputs": [
    {
     "name": "stdout",
     "output_type": "stream",
     "text": [
      "odd\n",
      "even\n"
     ]
    }
   ],
   "source": [
    "# same structure as using an if/else in a return statement\n",
    "\n",
    "# lambda x: <thing to return if True> if <condition> else <thing to return if False>\n",
    "\n",
    "oddeven = lambda num: 'even' if num%2==0 else 'odd'\n",
    "\n",
    "print(oddeven(1))\n",
    "print(oddeven(2))\n",
    "\n",
    "# same as\n",
    "def oddoreven(num):\n",
    "    if num%2==0:\n",
    "        return 'even'\n",
    "    else:\n",
    "        return 'odd'"
   ]
  },
  {
   "cell_type": "markdown",
   "metadata": {},
   "source": [
    "#### In-Class Exercise #1 <br>\n",
    "<p>Write an anonymous function that cubes the arguments passed in and assign the anonymous function to a variable 'f'.</p>"
   ]
  },
  {
   "cell_type": "code",
   "execution_count": 21,
   "metadata": {},
   "outputs": [
    {
     "data": {
      "text/plain": [
       "27"
      ]
     },
     "execution_count": 21,
     "metadata": {},
     "output_type": "execute_result"
    }
   ],
   "source": [
    "f = lambda x: x**3\n",
    "f(3)"
   ]
  },
  {
   "cell_type": "markdown",
   "metadata": {},
   "source": [
    "## Map <br>\n",
    "<p>The map function allows you to iterate over an entire list while running a function on each item of the list. This is why the map function works well with lambda's, because it simplifies things and you write less lines of code.<br>The syntax for a map function is \"map(function to be used, list to be used)\"<br>However, you must be careful, as the map function returns a map object, not a list. To turn it into a list we use the list() type conversion.</p>"
   ]
  },
  {
   "cell_type": "markdown",
   "metadata": {},
   "source": [
    "#### Syntax"
   ]
  },
  {
   "cell_type": "code",
   "execution_count": 30,
   "metadata": {},
   "outputs": [
    {
     "name": "stdout",
     "output_type": "stream",
     "text": [
      "[('Joao Cancelo', 27, 'Manchester City'), ('Kevin De Bruyne', 17, 'Manchester City'), ('Erling Haaland', 9, 'Borussia Dortmund'), ('Kyle Walker', 2, 'Manchester City')]\n",
      "<map object at 0x000001EFCA65FC70>\n",
      "[('Joao Cancelo', 27, 'Manchester City'), ('Kevin De Bruyne', 17, 'Manchester City'), ('Erling Haaland', 9, 'boooooooo'), ('Kyle Walker', 2, 'Manchester City')] \n",
      "\n",
      "[('Joao Cancelo', 27, 'Manchester City'), ('Kevin De Bruyne', 17, 'Manchester City'), ('Erling Haaland', 9, 'boooooooo'), ('Kyle Walker', 2, 'Manchester City')] \n",
      "\n",
      "[('Joao Cancelo', 27, 'Manchester City'), ('Kevin De Bruyne', 17, 'Manchester City'), ('Erling Haaland', 9, 'boooooooo'), ('Kyle Walker', 2, 'Manchester City')]\n"
     ]
    }
   ],
   "source": [
    "# map(function, list)\n",
    "players = [('Joao Cancelo', 27, 'Manchester City'), ('Kevin De Bruyne', 17, 'Manchester City'), ('Erling Haaland', 9, 'Borussia Dortmund'), ('Kyle Walker', 2, 'Manchester City')]\n",
    "print(players)\n",
    "\n",
    "# whenever I design a function to work with map, I am planning for the function to take one piece of the list as input\n",
    "def goManCity(tup):\n",
    "    if tup[2] == 'Manchester City':\n",
    "        return tup\n",
    "    else:\n",
    "        return (tup[0], tup[1], 'boooooooo')\n",
    "    \n",
    "mapresult = map(goManCity, players)\n",
    "print(mapresult)\n",
    "mapresult = list(mapresult)\n",
    "print(mapresult, '\\n')\n",
    "\n",
    "# doing the same thing with a for loop\n",
    "result = []\n",
    "for player in players:\n",
    "    result.append(goManCity(player))\n",
    "print(result, '\\n')\n",
    "\n",
    "# map is less code\n",
    "mr = list(map(goManCity, players))\n",
    "print(mr)"
   ]
  },
  {
   "cell_type": "markdown",
   "metadata": {},
   "source": [
    "#### Using Lambda's with Map"
   ]
  },
  {
   "cell_type": "code",
   "execution_count": 31,
   "metadata": {},
   "outputs": [
    {
     "name": "stdout",
     "output_type": "stream",
     "text": [
      "[('Joao Cancelo', 27, 'Manchester City'), ('Kevin De Bruyne', 17, 'Manchester City'), ('Erling Haaland', 9, 'boo'), ('Kyle Walker', 2, 'Manchester City')]\n"
     ]
    }
   ],
   "source": [
    "# change any non-Man City team name to 'boooo'\n",
    "# lambda function doing the same thing as goManCity() above\n",
    "    # lambda t: t if t[2]=='Manchester City' else (t[0], t[1], 'boo')\n",
    "playersmap = list(map(lambda t: t if t[2]=='Manchester City' else (t[0], t[1], 'boo'), players))\n",
    "print(playersmap)\n",
    "\n",
    "# step by step breakdown\n",
    "\n",
    "# definition of our function\n",
    "func = lambda t: t if t[2]=='Manchester City' else (t[0], t[1], 'boo')\n",
    "# mapping over our players list with the function\n",
    "mapresult = map(func, players)\n",
    "# convert the mapresult to a list\n",
    "playersmap = list(mapresult)"
   ]
  },
  {
   "cell_type": "markdown",
   "metadata": {},
   "source": [
    "#### In-Class Exercise #2 <br>\n",
    "<p>Use the map function to double each number and minus it by one in the list by using a lambda function</p>"
   ]
  },
  {
   "cell_type": "code",
   "execution_count": 33,
   "metadata": {},
   "outputs": [
    {
     "data": {
      "text/plain": [
       "[15, 5, 3, -9, 13]"
      ]
     },
     "execution_count": 33,
     "metadata": {},
     "output_type": "execute_result"
    }
   ],
   "source": [
    "nums = [8, 3, 2, -4, 7]\n",
    "# expected output: [15, 5, 3, -9, 13]\n",
    "\n",
    "numsdoubled = list(map(lambda x: x*2-1, nums))\n",
    "numsdoubled"
   ]
  },
  {
   "cell_type": "markdown",
   "metadata": {},
   "source": [
    "## Filter() <br>\n",
    "<p>Filter's are similar to the map function, where you're able to pass a function argument and a list argument and filter out something from the list based on the conditions passed. Similar to the map function, it returns a filter object, so you need to type convert it to a list()</p>"
   ]
  },
  {
   "cell_type": "markdown",
   "metadata": {},
   "source": [
    "#### Syntax"
   ]
  },
  {
   "cell_type": "code",
   "execution_count": 39,
   "metadata": {},
   "outputs": [
    {
     "name": "stdout",
     "output_type": "stream",
     "text": [
      "['Joao Cancelo', 'Fernandinho', 'Phil Foden', 'Ederson', 'Kyle Walker', 'Ruben Dias', 'Ferran Torres']\n"
     ]
    },
    {
     "data": {
      "text/plain": [
       "['Fernandinho', 'Phil Foden', 'Ferran Torres']"
      ]
     },
     "execution_count": 39,
     "metadata": {},
     "output_type": "execute_result"
    }
   ],
   "source": [
    "# we can pass in a function that returns a boolean (True/False)\n",
    "# as well as a list\n",
    "# and filter will create a filter object that we can turn into a list\n",
    "# containing all elements from the original list which returned True from the function\n",
    "\n",
    "players = ['Joao Cancelo', 'Fernandinho', 'Phil Foden', 'Ederson', 'Kyle Walker', 'Ruben Dias', 'Ferran Torres']\n",
    "\n",
    "# I want only players from this list with a first or last name starting with F\n",
    "# I can design a function that returns True if 'F' is present in the name\n",
    "# or False if no 'F' is present\n",
    "def forno(name):\n",
    "    if 'F' in name:\n",
    "        return True\n",
    "    else:\n",
    "        return False\n",
    "\n",
    "print(players)\n",
    "list(filter(forno, players))"
   ]
  },
  {
   "cell_type": "code",
   "execution_count": 40,
   "metadata": {},
   "outputs": [
    {
     "data": {
      "text/plain": [
       "['Fernandinho', 'Phil Foden', 'Ferran Torres']"
      ]
     },
     "execution_count": 40,
     "metadata": {},
     "output_type": "execute_result"
    }
   ],
   "source": [
    "[x for x in players if 'F' in x]"
   ]
  },
  {
   "cell_type": "markdown",
   "metadata": {},
   "source": [
    "#### Using Lambda's with Filter()"
   ]
  },
  {
   "cell_type": "code",
   "execution_count": 42,
   "metadata": {},
   "outputs": [
    {
     "name": "stdout",
     "output_type": "stream",
     "text": [
      "['Joao Cancelo', 'Fernandinho', 'Phil Foden', 'Ederson', 'Kyle Walker', 'Ruben Dias', 'Ferran Torres']\n",
      "['Fernandinho', 'Phil Foden', 'Ferran Torres']\n"
     ]
    }
   ],
   "source": [
    "players = ['Joao Cancelo', 'Fernandinho', 'Phil Foden', 'Ederson', 'Kyle Walker', 'Ruben Dias', 'Ferran Torres']\n",
    "\n",
    "# I want only players from this list with a first or last name starting with F\n",
    "# I can design a function that returns True if 'F' is present in the name\n",
    "# or False if no 'F' is present\n",
    "\n",
    "print(players)\n",
    "fplayers = list(filter(lambda name: True if 'F' in name else False, players))\n",
    "print(fplayers)"
   ]
  },
  {
   "cell_type": "markdown",
   "metadata": {},
   "source": [
    "#### In-Class Exercise #3 <br>\n",
    "<p>Filter out all the numbers that are below the mean of the list.<br><b>Hint: Import the 'statistics' module</b></p>"
   ]
  },
  {
   "cell_type": "code",
   "execution_count": null,
   "metadata": {},
   "outputs": [],
   "source": []
  },
  {
   "cell_type": "markdown",
   "metadata": {},
   "source": [
    "## Reduce() <br>\n",
    "<p>Be very careful when using this function, as of Python 3 it's been moved to the 'functools' library and no longer is a built-in function.<br>The creator of Python himself, says to just use a for loop instead.</p>"
   ]
  },
  {
   "cell_type": "markdown",
   "metadata": {},
   "source": [
    "#### Syntax"
   ]
  },
  {
   "cell_type": "code",
   "execution_count": 43,
   "metadata": {},
   "outputs": [
    {
     "data": {
      "text/plain": [
       "-1344"
      ]
     },
     "execution_count": 43,
     "metadata": {},
     "output_type": "execute_result"
    }
   ],
   "source": [
    "# just use a for loop\n",
    "# reduce a list down to a single value\n",
    "nums = [8, 3, 2, -4, 7]\n",
    "\n",
    "# i want the product of all the numbers in the list\n",
    "# 8*3*2*-4*7 = ?\n",
    "# that used to be something you did with reduce() now you would just use a for loop\n",
    "ans = nums[0]\n",
    "for i in range(1,len(nums)):\n",
    "    ans = ans*nums[i]\n",
    "ans"
   ]
  },
  {
   "cell_type": "markdown",
   "metadata": {},
   "source": [
    "## Recursion <br>\n",
    "<p>Recursion means that a function is calling itself, so it contanstly executes until a base case is reached. It will then push the returning values back up the chain until the function is complete. A prime example of recursion is computing factorials... such that 5! (factorial) is 5*4*3*2*1 which equals 120.</p>"
   ]
  },
  {
   "cell_type": "markdown",
   "metadata": {},
   "source": [
    "#### Implementing a Base Case"
   ]
  },
  {
   "cell_type": "code",
   "execution_count": null,
   "metadata": {},
   "outputs": [],
   "source": []
  },
  {
   "cell_type": "markdown",
   "metadata": {},
   "source": [
    "#### Writing a Factorial Function"
   ]
  },
  {
   "cell_type": "code",
   "execution_count": null,
   "metadata": {},
   "outputs": [],
   "source": []
  },
  {
   "cell_type": "markdown",
   "metadata": {},
   "source": [
    "#### In-Class Exercise #5 <br>\n",
    "<p>Write a recursive function that subtracts all numbers to the argument given.</p>"
   ]
  },
  {
   "cell_type": "code",
   "execution_count": null,
   "metadata": {},
   "outputs": [],
   "source": []
  },
  {
   "cell_type": "markdown",
   "metadata": {},
   "source": [
    "## Generators <br>\n",
    "<p>Generators are a type of iterable, like lists or tuples. They do not allow indexing, but they can still be iterated through with for loops. They are created using functions and the yield statement.</p>"
   ]
  },
  {
   "cell_type": "markdown",
   "metadata": {},
   "source": [
    "#### Yield Keyword <br>\n",
    "<p>The yield keyword denotes a generator, it doesn't return so it won't leave the function and reset all variables in the function scope, instead it yields the number back to the caller.</p>"
   ]
  },
  {
   "cell_type": "code",
   "execution_count": null,
   "metadata": {},
   "outputs": [],
   "source": []
  },
  {
   "cell_type": "markdown",
   "metadata": {},
   "source": [
    "#### Infinite Generator"
   ]
  },
  {
   "cell_type": "code",
   "execution_count": null,
   "metadata": {},
   "outputs": [],
   "source": [
    "# bad, never create infinite loops"
   ]
  },
  {
   "cell_type": "markdown",
   "metadata": {},
   "source": [
    "#### In-Class Exercise #6 <br>\n",
    "<p>Create a generator that takes a number argument and yields that number squared, then prints each number squared until zero is reached.</p>"
   ]
  },
  {
   "cell_type": "code",
   "execution_count": null,
   "metadata": {},
   "outputs": [],
   "source": []
  },
  {
   "cell_type": "markdown",
   "metadata": {},
   "source": [
    "# Exercises"
   ]
  },
  {
   "cell_type": "markdown",
   "metadata": {},
   "source": [
    "### Exercise #1 <br>\n",
    "<p>Filter out all of the empty strings from the list below</p>\n",
    "\n",
    "`Output: ['Argentina', 'San Diego', 'Boston', 'New York']`"
   ]
  },
  {
   "cell_type": "code",
   "execution_count": null,
   "metadata": {},
   "outputs": [],
   "source": [
    "places = [\" \",\"Argentina\", \" \", \"San Diego\",\"\",\"  \",\"\",\"Boston\",\"New York\"]\n",
    "\n"
   ]
  },
  {
   "cell_type": "markdown",
   "metadata": {},
   "source": [
    "### Exercise #2 <br>\n",
    "<p>Write an anonymous function that sorts this list by the last name...<br><b>Hint: Use the \".sort()\" method and access the key\"</b></p>\n",
    "\n",
    "`Output: ['Victor aNisimov', 'Gary A.J. Bernstein', 'Joel Carter', 'Andrew P. Garfield', 'David hassELHOFF']`"
   ]
  },
  {
   "cell_type": "code",
   "execution_count": null,
   "metadata": {},
   "outputs": [],
   "source": [
    "author = [\"Joel Carter\", \"Victor aNisimov\", \"Andrew P. Garfield\",\"David hassELHOFF\",\"Gary A.J. Bernstein\"]\n",
    "\n"
   ]
  },
  {
   "cell_type": "markdown",
   "metadata": {},
   "source": [
    "### Exercise #3 <br>\n",
    "<p>Convert the list below from Celsius to Farhenheit, using the map function with a lambda...</p>\n",
    "\n",
    "`Output: [('Nashua', 89.6), ('Boston', 53.6), ('Los Angelos', 111.2), ('Miami', 84.2)]\n",
    "`"
   ]
  },
  {
   "cell_type": "code",
   "execution_count": null,
   "metadata": {},
   "outputs": [],
   "source": [
    "# F = (9/5)*C + 32\n",
    "places = [('Nashua',32),(\"Boston\",12),(\"Los Angelos\",44),(\"Miami\",29)]\n"
   ]
  },
  {
   "cell_type": "markdown",
   "metadata": {},
   "source": [
    "### Exercise #4 <br>\n",
    "<p>Write a recursion function to perform the fibonacci sequence up to the number passed in.</p>\n",
    "\n",
    "`Output for fib(5) => \n",
    "Iteration 0: 1\n",
    "Iteration 1: 1\n",
    "Iteration 2: 2\n",
    "Iteration 3: 3\n",
    "Iteration 4: 5\n",
    "Iteration 5: 8`"
   ]
  },
  {
   "cell_type": "code",
   "execution_count": null,
   "metadata": {
    "scrolled": true
   },
   "outputs": [],
   "source": []
  }
 ],
 "metadata": {
  "kernelspec": {
   "display_name": "Python 3",
   "language": "python",
   "name": "python3"
  },
  "language_info": {
   "codemirror_mode": {
    "name": "ipython",
    "version": 3
   },
   "file_extension": ".py",
   "mimetype": "text/x-python",
   "name": "python",
   "nbconvert_exporter": "python",
   "pygments_lexer": "ipython3",
   "version": "3.8.8"
  }
 },
 "nbformat": 4,
 "nbformat_minor": 2
}
